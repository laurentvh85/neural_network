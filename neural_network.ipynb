{
 "cells": [
  {
   "cell_type": "code",
   "execution_count": 1,
   "metadata": {},
   "outputs": [],
   "source": [
    "# Import our dependencies\n",
    "import pandas as pd\n",
    "import matplotlib as plt\n",
    "from sklearn.datasets import make_blobs\n",
    "import sklearn as skl\n",
    "import tensorflow as tf"
   ]
  },
  {
   "cell_type": "code",
   "execution_count": 2,
   "metadata": {},
   "outputs": [
    {
     "data": {
      "text/plain": [
       "<matplotlib.axes._subplots.AxesSubplot at 0x7f807bd00250>"
      ]
     },
     "execution_count": 2,
     "metadata": {},
     "output_type": "execute_result"
    },
    {
     "data": {
      "image/png": "[encoded data removed]",
      "text/plain": [
       "<Figure size 432x288 with 2 Axes>"
      ]
     },
     "metadata": {
      "needs_background": "light"
     },
     "output_type": "display_data"
    }
   ],
   "source": [
    "# Generate dummy dataset\n",
    "X, y = make_blobs(n_samples=1000, centers=2, n_features=2, random_state=78)\n",
    "\n",
    "# Creating a DataFrame with the dummy data\n",
    "df = pd.DataFrame(X, columns=[\"Feature 1\", \"Feature 2\"])\n",
    "df[\"Target\"] = y\n",
    "\n",
    "# Plotting the dummy data\n",
    "df.plot.scatter(x=\"Feature 1\", y=\"Feature 2\", c=\"Target\", colormap=\"winter\")\n"
   ]
  },
  {
   "cell_type": "code",
   "execution_count": 3,
   "metadata": {},
   "outputs": [],
   "source": [
    "# Use sklearn to split dataset\n",
    "from sklearn.model_selection import train_test_split\n",
    "X_train, X_test, y_train, y_test = train_test_split(X, y, random_state=78)\n"
   ]
  },
  {
   "cell_type": "code",
   "execution_count": 4,
   "metadata": {},
   "outputs": [],
   "source": [
    "# Create scaler instance\n",
    "X_scaler = skl.preprocessing.StandardScaler()\n",
    "\n",
    "# Fit the scaler\n",
    "X_scaler.fit(X_train)\n",
    "\n",
    "# Scale the data\n",
    "X_train_scaled = X_scaler.transform(X_train)\n",
    "X_test_scaled = X_scaler.transform(X_test)"
   ]
  },
  {
   "cell_type": "code",
   "execution_count": 5,
   "metadata": {},
   "outputs": [],
   "source": [
    "# Create the Keras Sequential model\n",
    "nn_model = tf.keras.models.Sequential()"
   ]
  },
  {
   "cell_type": "code",
   "execution_count": 6,
   "metadata": {},
   "outputs": [],
   "source": [
    "# Add our first Dense layer, including the input layer\n",
    "nn_model.add(tf.keras.layers.Dense(units=1, activation=\"relu\", input_dim=2))"
   ]
  },
  {
   "cell_type": "code",
   "execution_count": 7,
   "metadata": {},
   "outputs": [],
   "source": [
    "# Add the output layer that uses a probability activation function\n",
    "nn_model.add(tf.keras.layers.Dense(units=1, activation=\"sigmoid\"))"
   ]
  },
  {
   "cell_type": "code",
   "execution_count": 8,
   "metadata": {},
   "outputs": [
    {
     "name": "stdout",
     "output_type": "stream",
     "text": [
      "Model: \"sequential\"\n",
      "_________________________________________________________________\n",
      "Layer (type)                 Output Shape              Param #   \n",
      "=================================================================\n",
      "dense (Dense)                (None, 1)                 3         \n",
      "_________________________________________________________________\n",
      "dense_1 (Dense)              (None, 1)                 2         \n",
      "=================================================================\n",
      "Total params: 5\n",
      "Trainable params: 5\n",
      "Non-trainable params: 0\n",
      "_________________________________________________________________\n"
     ]
    }
   ],
   "source": [
    "# Check the structure of the Sequential model\n",
    "nn_model.summary()"
   ]
  },
  {
   "cell_type": "code",
   "execution_count": 9,
   "metadata": {},
   "outputs": [],
   "source": [
    "# Compile the Sequential model together and customize metrics\n",
    "nn_model.compile(loss=\"binary_crossentropy\", optimizer=\"adam\", metrics=[\"accuracy\"])"
   ]
  },
  {
   "cell_type": "code",
   "execution_count": 10,
   "metadata": {},
   "outputs": [
    {
     "name": "stdout",
     "output_type": "stream",
     "text": [
      "Epoch 1/100\n",
      "24/24 [==============================] - 0s 602us/step - loss: 0.6320 - accuracy: 0.8133\n",
      "Epoch 2/100\n",
      "24/24 [==============================] - 0s 493us/step - loss: 0.6232 - accuracy: 0.8360\n",
      "Epoch 3/100\n",
      "24/24 [==============================] - 0s 492us/step - loss: 0.6135 - accuracy: 0.8627\n",
      "Epoch 4/100\n",
      "24/24 [==============================] - 0s 495us/step - loss: 0.6025 - accuracy: 0.8867\n",
      "Epoch 5/100\n",
      "24/24 [==============================] - 0s 483us/step - loss: 0.5902 - accuracy: 0.9173\n",
      "Epoch 6/100\n",
      "24/24 [==============================] - 0s 526us/step - loss: 0.5770 - accuracy: 0.9387\n",
      "Epoch 7/100\n",
      "24/24 [==============================] - 0s 480us/step - loss: 0.5630 - accuracy: 0.9533\n",
      "Epoch 8/100\n",
      "24/24 [==============================] - 0s 460us/step - loss: 0.5484 - accuracy: 0.9613\n",
      "Epoch 9/100\n",
      "24/24 [==============================] - 0s 461us/step - loss: 0.5335 - accuracy: 0.9720\n",
      "Epoch 10/100\n",
      "24/24 [==============================] - 0s 459us/step - loss: 0.5182 - accuracy: 0.9853\n",
      "Epoch 11/100\n",
      "24/24 [==============================] - 0s 476us/step - loss: 0.5031 - accuracy: 0.9867\n",
      "Epoch 12/100\n",
      "24/24 [==============================] - 0s 461us/step - loss: 0.4877 - accuracy: 0.9920\n",
      "Epoch 13/100\n",
      "24/24 [==============================] - 0s 470us/step - loss: 0.4726 - accuracy: 0.9933\n",
      "Epoch 14/100\n",
      "24/24 [==============================] - 0s 473us/step - loss: 0.4576 - accuracy: 0.9960\n",
      "Epoch 15/100\n",
      "24/24 [==============================] - 0s 465us/step - loss: 0.4428 - accuracy: 0.9987\n",
      "Epoch 16/100\n",
      "24/24 [==============================] - 0s 486us/step - loss: 0.4284 - accuracy: 0.9987\n",
      "Epoch 17/100\n",
      "24/24 [==============================] - 0s 483us/step - loss: 0.4144 - accuracy: 1.0000\n",
      "Epoch 18/100\n",
      "24/24 [==============================] - 0s 485us/step - loss: 0.4008 - accuracy: 1.0000\n",
      "Epoch 19/100\n",
      "24/24 [==============================] - 0s 479us/step - loss: 0.3878 - accuracy: 1.0000\n",
      "Epoch 20/100\n",
      "24/24 [==============================] - 0s 477us/step - loss: 0.3751 - accuracy: 1.0000\n",
      "Epoch 21/100\n",
      "24/24 [==============================] - 0s 482us/step - loss: 0.3630 - accuracy: 1.0000\n",
      "Epoch 22/100\n",
      "24/24 [==============================] - 0s 488us/step - loss: 0.3514 - accuracy: 1.0000\n",
      "Epoch 23/100\n",
      "24/24 [==============================] - 0s 469us/step - loss: 0.3402 - accuracy: 1.0000\n",
      "Epoch 24/100\n",
      "24/24 [==============================] - 0s 519us/step - loss: 0.3296 - accuracy: 1.0000\n",
      "Epoch 25/100\n",
      "24/24 [==============================] - 0s 471us/step - loss: 0.3194 - accuracy: 1.0000\n",
      "Epoch 26/100\n",
      "24/24 [==============================] - 0s 481us/step - loss: 0.3097 - accuracy: 1.0000\n",
      "Epoch 27/100\n",
      "24/24 [==============================] - 0s 507us/step - loss: 0.3004 - accuracy: 1.0000\n",
      "Epoch 28/100\n",
      "24/24 [==============================] - 0s 483us/step - loss: 0.2915 - accuracy: 1.0000\n",
      "Epoch 29/100\n",
      "24/24 [==============================] - 0s 477us/step - loss: 0.2830 - accuracy: 1.0000\n",
      "Epoch 30/100\n",
      "24/24 [==============================] - 0s 469us/step - loss: 0.2749 - accuracy: 1.0000\n",
      "Epoch 31/100\n",
      "24/24 [==============================] - 0s 496us/step - loss: 0.2671 - accuracy: 1.0000\n",
      "Epoch 32/100\n",
      "24/24 [==============================] - 0s 484us/step - loss: 0.2597 - accuracy: 1.0000\n",
      "Epoch 33/100\n",
      "24/24 [==============================] - 0s 478us/step - loss: 0.2525 - accuracy: 1.0000\n",
      "Epoch 34/100\n",
      "24/24 [==============================] - 0s 484us/step - loss: 0.2457 - accuracy: 1.0000\n",
      "Epoch 35/100\n",
      "24/24 [==============================] - 0s 493us/step - loss: 0.2392 - accuracy: 1.0000\n",
      "Epoch 36/100\n",
      "24/24 [==============================] - 0s 496us/step - loss: 0.2330 - accuracy: 1.0000\n",
      "Epoch 37/100\n",
      "24/24 [==============================] - 0s 494us/step - loss: 0.2270 - accuracy: 1.0000\n",
      "Epoch 38/100\n",
      "24/24 [==============================] - 0s 489us/step - loss: 0.2212 - accuracy: 1.0000\n",
      "Epoch 39/100\n",
      "24/24 [==============================] - 0s 508us/step - loss: 0.2157 - accuracy: 1.0000\n",
      "Epoch 40/100\n",
      "24/24 [==============================] - 0s 488us/step - loss: 0.2104 - accuracy: 1.0000\n",
      "Epoch 41/100\n",
      "24/24 [==============================] - 0s 479us/step - loss: 0.2053 - accuracy: 1.0000\n",
      "Epoch 42/100\n",
      "24/24 [==============================] - 0s 478us/step - loss: 0.2004 - accuracy: 1.0000\n",
      "Epoch 43/100\n",
      "24/24 [==============================] - 0s 463us/step - loss: 0.1957 - accuracy: 1.0000\n",
      "Epoch 44/100\n",
      "24/24 [==============================] - 0s 470us/step - loss: 0.1911 - accuracy: 1.0000\n",
      "Epoch 45/100\n",
      "24/24 [==============================] - 0s 472us/step - loss: 0.1867 - accuracy: 1.0000\n",
      "Epoch 46/100\n",
      "24/24 [==============================] - 0s 484us/step - loss: 0.1825 - accuracy: 1.0000\n",
      "Epoch 47/100\n",
      "24/24 [==============================] - 0s 477us/step - loss: 0.1785 - accuracy: 1.0000\n",
      "Epoch 48/100\n",
      "24/24 [==============================] - 0s 501us/step - loss: 0.1745 - accuracy: 1.0000\n",
      "Epoch 49/100\n",
      "24/24 [==============================] - 0s 486us/step - loss: 0.1707 - accuracy: 1.0000\n",
      "Epoch 50/100\n",
      "24/24 [==============================] - 0s 461us/step - loss: 0.1671 - accuracy: 1.0000\n",
      "Epoch 51/100\n",
      "24/24 [==============================] - 0s 477us/step - loss: 0.1635 - accuracy: 1.0000\n",
      "Epoch 52/100\n",
      "24/24 [==============================] - 0s 471us/step - loss: 0.1601 - accuracy: 1.0000\n",
      "Epoch 53/100\n",
      "24/24 [==============================] - 0s 471us/step - loss: 0.1568 - accuracy: 1.0000\n",
      "Epoch 54/100\n",
      "24/24 [==============================] - 0s 480us/step - loss: 0.1535 - accuracy: 1.0000\n",
      "Epoch 55/100\n",
      "24/24 [==============================] - 0s 487us/step - loss: 0.1504 - accuracy: 1.0000\n",
      "Epoch 56/100\n",
      "24/24 [==============================] - 0s 472us/step - loss: 0.1474 - accuracy: 1.0000\n",
      "Epoch 57/100\n",
      "24/24 [==============================] - 0s 461us/step - loss: 0.1444 - accuracy: 1.0000\n",
      "Epoch 58/100\n",
      "24/24 [==============================] - 0s 510us/step - loss: 0.1416 - accuracy: 1.0000\n",
      "Epoch 59/100\n",
      "24/24 [==============================] - 0s 471us/step - loss: 0.1388 - accuracy: 1.0000\n",
      "Epoch 60/100\n",
      "24/24 [==============================] - 0s 468us/step - loss: 0.1361 - accuracy: 1.0000\n",
      "Epoch 61/100\n",
      "24/24 [==============================] - 0s 487us/step - loss: 0.1335 - accuracy: 1.0000\n",
      "Epoch 62/100\n",
      "24/24 [==============================] - 0s 471us/step - loss: 0.1310 - accuracy: 1.0000\n",
      "Epoch 63/100\n",
      "24/24 [==============================] - 0s 489us/step - loss: 0.1285 - accuracy: 1.0000\n",
      "Epoch 64/100\n",
      "24/24 [==============================] - 0s 466us/step - loss: 0.1261 - accuracy: 1.0000\n",
      "Epoch 65/100\n",
      "24/24 [==============================] - 0s 479us/step - loss: 0.1238 - accuracy: 1.0000\n",
      "Epoch 66/100\n",
      "24/24 [==============================] - 0s 480us/step - loss: 0.1215 - accuracy: 1.0000\n",
      "Epoch 67/100\n",
      "24/24 [==============================] - 0s 468us/step - loss: 0.1193 - accuracy: 1.0000\n",
      "Epoch 68/100\n",
      "24/24 [==============================] - 0s 494us/step - loss: 0.1171 - accuracy: 1.0000\n",
      "Epoch 69/100\n",
      "24/24 [==============================] - 0s 485us/step - loss: 0.1151 - accuracy: 1.0000\n",
      "Epoch 70/100\n",
      "24/24 [==============================] - 0s 477us/step - loss: 0.1130 - accuracy: 1.0000\n",
      "Epoch 71/100\n",
      "24/24 [==============================] - 0s 491us/step - loss: 0.1110 - accuracy: 1.0000\n",
      "Epoch 72/100\n",
      "24/24 [==============================] - 0s 478us/step - loss: 0.1091 - accuracy: 1.0000\n",
      "Epoch 73/100\n",
      "24/24 [==============================] - 0s 478us/step - loss: 0.1072 - accuracy: 1.0000\n",
      "Epoch 74/100\n",
      "24/24 [==============================] - 0s 481us/step - loss: 0.1054 - accuracy: 1.0000\n",
      "Epoch 75/100\n",
      "24/24 [==============================] - 0s 477us/step - loss: 0.1035 - accuracy: 1.0000\n",
      "Epoch 76/100\n",
      "24/24 [==============================] - 0s 473us/step - loss: 0.1018 - accuracy: 1.0000\n",
      "Epoch 77/100\n",
      "24/24 [==============================] - 0s 488us/step - loss: 0.1001 - accuracy: 1.0000\n",
      "Epoch 78/100\n",
      "24/24 [==============================] - 0s 477us/step - loss: 0.0984 - accuracy: 1.0000\n",
      "Epoch 79/100\n",
      "24/24 [==============================] - 0s 473us/step - loss: 0.0968 - accuracy: 1.0000\n",
      "Epoch 80/100\n",
      "24/24 [==============================] - 0s 489us/step - loss: 0.0952 - accuracy: 1.0000\n",
      "Epoch 81/100\n"
     ]
    },
    {
     "name": "stdout",
     "output_type": "stream",
     "text": [
      "24/24 [==============================] - 0s 479us/step - loss: 0.0936 - accuracy: 1.0000\n",
      "Epoch 82/100\n",
      "24/24 [==============================] - 0s 478us/step - loss: 0.0921 - accuracy: 1.0000\n",
      "Epoch 83/100\n",
      "24/24 [==============================] - 0s 454us/step - loss: 0.0906 - accuracy: 1.0000\n",
      "Epoch 84/100\n",
      "24/24 [==============================] - 0s 449us/step - loss: 0.0891 - accuracy: 1.0000\n",
      "Epoch 85/100\n",
      "24/24 [==============================] - 0s 469us/step - loss: 0.0877 - accuracy: 1.0000\n",
      "Epoch 86/100\n",
      "24/24 [==============================] - 0s 491us/step - loss: 0.0863 - accuracy: 1.0000\n",
      "Epoch 87/100\n",
      "24/24 [==============================] - 0s 452us/step - loss: 0.0849 - accuracy: 1.0000\n",
      "Epoch 88/100\n",
      "24/24 [==============================] - 0s 470us/step - loss: 0.0836 - accuracy: 1.0000\n",
      "Epoch 89/100\n",
      "24/24 [==============================] - 0s 468us/step - loss: 0.0823 - accuracy: 1.0000\n",
      "Epoch 90/100\n",
      "24/24 [==============================] - 0s 465us/step - loss: 0.0810 - accuracy: 1.0000\n",
      "Epoch 91/100\n",
      "24/24 [==============================] - 0s 475us/step - loss: 0.0798 - accuracy: 1.0000\n",
      "Epoch 92/100\n",
      "24/24 [==============================] - 0s 468us/step - loss: 0.0785 - accuracy: 1.0000\n",
      "Epoch 93/100\n",
      "24/24 [==============================] - 0s 458us/step - loss: 0.0773 - accuracy: 1.0000\n",
      "Epoch 94/100\n",
      "24/24 [==============================] - 0s 475us/step - loss: 0.0761 - accuracy: 1.0000\n",
      "Epoch 95/100\n",
      "24/24 [==============================] - 0s 454us/step - loss: 0.0750 - accuracy: 1.0000\n",
      "Epoch 96/100\n",
      "24/24 [==============================] - 0s 473us/step - loss: 0.0738 - accuracy: 1.0000\n",
      "Epoch 97/100\n",
      "24/24 [==============================] - 0s 457us/step - loss: 0.0727 - accuracy: 1.0000\n",
      "Epoch 98/100\n",
      "24/24 [==============================] - 0s 454us/step - loss: 0.0717 - accuracy: 1.0000\n",
      "Epoch 99/100\n",
      "24/24 [==============================] - 0s 474us/step - loss: 0.0706 - accuracy: 1.0000\n",
      "Epoch 100/100\n",
      "24/24 [==============================] - 0s 465us/step - loss: 0.0696 - accuracy: 1.0000\n"
     ]
    }
   ],
   "source": [
    "# Fit the model to the training data\n",
    "fit_model = nn_model.fit(X_train_scaled, y_train, epochs=100)"
   ]
  },
  {
   "cell_type": "code",
   "execution_count": 11,
   "metadata": {},
   "outputs": [
    {
     "data": {
      "text/plain": [
       "<matplotlib.axes._subplots.AxesSubplot at 0x7f805ed0ba00>"
      ]
     },
     "execution_count": 11,
     "metadata": {},
     "output_type": "execute_result"
    },
    {
     "data": {
      "image/png": "[encoded data removed]",
      "text/plain": [
       "<Figure size 432x288 with 1 Axes>"
      ]
     },
     "metadata": {
      "needs_background": "light"
     },
     "output_type": "display_data"
    }
   ],
   "source": [
    "# Create a DataFrame containing training history\n",
    "history_df = pd.DataFrame(fit_model.history, index=range(1,len(fit_model.history[\"loss\"])+1))\n",
    "\n",
    "# Plot the loss\n",
    "history_df.plot(y=\"loss\")"
   ]
  },
  {
   "cell_type": "code",
   "execution_count": 12,
   "metadata": {},
   "outputs": [
    {
     "data": {
      "text/plain": [
       "<matplotlib.axes._subplots.AxesSubplot at 0x7f805ed7e0d0>"
      ]
     },
     "execution_count": 12,
     "metadata": {},
     "output_type": "execute_result"
    },
    {
     "data": {
      "image/png": "[encoded data removed]",
      "text/plain": [
       "<Figure size 432x288 with 1 Axes>"
      ]
     },
     "metadata": {
      "needs_background": "light"
     },
     "output_type": "display_data"
    }
   ],
   "source": [
    "# Plot the accuracy\n",
    "history_df.plot(y=\"accuracy\")"
   ]
  },
  {
   "cell_type": "code",
   "execution_count": 13,
   "metadata": {},
   "outputs": [
    {
     "name": "stdout",
     "output_type": "stream",
     "text": [
      "8/8 - 0s - loss: 0.0654 - accuracy: 1.0000\n",
      "Loss: 0.06535060703754425, Accuracy: 1.0\n"
     ]
    }
   ],
   "source": [
    "# Evaluate the model using the test data\n",
    "model_loss, model_accuracy = nn_model.evaluate(X_test_scaled,y_test,verbose=2)\n",
    "print(f\"Loss: {model_loss}, Accuracy: {model_accuracy}\")"
   ]
  },
  {
   "cell_type": "code",
   "execution_count": 14,
   "metadata": {},
   "outputs": [
    {
     "name": "stdout",
     "output_type": "stream",
     "text": [
      "WARNING:tensorflow:From <ipython-input-14-25062c5bd63e>:4: Sequential.predict_classes (from tensorflow.python.keras.engine.sequential) is deprecated and will be removed after 2021-01-01.\n",
      "Instructions for updating:\n",
      "Please use instead:* `np.argmax(model.predict(x), axis=-1)`,   if your model does multi-class classification   (e.g. if it uses a `softmax` last-layer activation).* `(model.predict(x) > 0.5).astype(\"int32\")`,   if your model does binary classification   (e.g. if it uses a `sigmoid` last-layer activation).\n"
     ]
    },
    {
     "data": {
      "text/plain": [
       "array([[0],\n",
       "       [1],\n",
       "       [0],\n",
       "       [1],\n",
       "       [0],\n",
       "       [0],\n",
       "       [1],\n",
       "       [1],\n",
       "       [1],\n",
       "       [0]], dtype=int32)"
      ]
     },
     "execution_count": 14,
     "metadata": {},
     "output_type": "execute_result"
    }
   ],
   "source": [
    "# Predict the classification of a new set of blob data\n",
    "new_X, new_Y = make_blobs(n_samples=10, centers=2, n_features=2, random_state=78)\n",
    "new_X_scaled = X_scaler.transform(new_X)\n",
    "nn_model.predict_classes(new_X_scaled)"
   ]
  },
  {
   "cell_type": "code",
   "execution_count": 15,
   "metadata": {},
   "outputs": [
    {
     "data": {
      "text/plain": [
       "<matplotlib.axes._subplots.AxesSubplot at 0x7f807be13a00>"
      ]
     },
     "execution_count": 15,
     "metadata": {},
     "output_type": "execute_result"
    },
    {
     "data": {
      "image/png": "[encoded data removed]",
      "text/plain": [
       "<Figure size 432x288 with 2 Axes>"
      ]
     },
     "metadata": {
      "needs_background": "light"
     },
     "output_type": "display_data"
    }
   ],
   "source": [
    "from sklearn.datasets import make_moons\n",
    "\n",
    "# Creating dummy nonlinear data\n",
    "X_moons, y_moons = make_moons(n_samples=1000, noise=0.08, random_state=78)\n",
    "\n",
    "# Transforming y_moons to a vertical vector\n",
    "y_moons = y_moons.reshape(-1, 1)\n",
    "\n",
    "# Creating a DataFrame to plot the nonlinear dummy data\n",
    "df_moons = pd.DataFrame(X_moons, columns=[\"Feature 1\", \"Feature 2\"])\n",
    "df_moons[\"Target\"] = y_moons\n",
    "\n",
    "# Plot the nonlinear dummy data\n",
    "df_moons.plot.scatter(x=\"Feature 1\",y=\"Feature 2\", c=\"Target\",colormap=\"winter\")"
   ]
  },
  {
   "cell_type": "code",
   "execution_count": 16,
   "metadata": {},
   "outputs": [],
   "source": [
    "# Create training and testing sets\n",
    "X_moon_train, X_moon_test, y_moon_train, y_moon_test = train_test_split(\n",
    "    X_moons, y_moons, random_state=78\n",
    ")\n",
    "\n",
    "# Create the scaler instance\n",
    "X_moon_scaler = skl.preprocessing.StandardScaler()\n",
    "\n",
    "# Fit the scaler\n",
    "X_moon_scaler.fit(X_moon_train)\n",
    "\n",
    "# Scale the data\n",
    "X_moon_train_scaled = X_moon_scaler.transform(X_moon_train)\n",
    "X_moon_test_scaled = X_moon_scaler.transform(X_moon_test)"
   ]
  },
  {
   "cell_type": "code",
   "execution_count": 17,
   "metadata": {},
   "outputs": [
    {
     "name": "stdout",
     "output_type": "stream",
     "text": [
      "Epoch 1/100\n",
      "24/24 [==============================] - 0s 796us/step - loss: 0.7480 - accuracy: 0.6453\n",
      "Epoch 2/100\n",
      "24/24 [==============================] - 0s 687us/step - loss: 0.6760 - accuracy: 0.6720\n",
      "Epoch 3/100\n",
      "24/24 [==============================] - 0s 689us/step - loss: 0.6223 - accuracy: 0.6840\n",
      "Epoch 4/100\n",
      "24/24 [==============================] - 0s 710us/step - loss: 0.5851 - accuracy: 0.6960\n",
      "Epoch 5/100\n",
      "24/24 [==============================] - 0s 698us/step - loss: 0.5564 - accuracy: 0.7080\n",
      "Epoch 6/100\n",
      "24/24 [==============================] - 0s 732us/step - loss: 0.5333 - accuracy: 0.7147\n",
      "Epoch 7/100\n",
      "24/24 [==============================] - 0s 735us/step - loss: 0.5154 - accuracy: 0.7200\n",
      "Epoch 8/100\n",
      "24/24 [==============================] - 0s 719us/step - loss: 0.4994 - accuracy: 0.7293\n",
      "Epoch 9/100\n",
      "24/24 [==============================] - 0s 699us/step - loss: 0.4859 - accuracy: 0.7387\n",
      "Epoch 10/100\n",
      "24/24 [==============================] - 0s 717us/step - loss: 0.4738 - accuracy: 0.7493\n",
      "Epoch 11/100\n",
      "24/24 [==============================] - 0s 718us/step - loss: 0.4628 - accuracy: 0.7533\n",
      "Epoch 12/100\n",
      "24/24 [==============================] - 0s 691us/step - loss: 0.4531 - accuracy: 0.7573\n",
      "Epoch 13/100\n",
      "24/24 [==============================] - 0s 706us/step - loss: 0.4438 - accuracy: 0.7587\n",
      "Epoch 14/100\n",
      "24/24 [==============================] - 0s 688us/step - loss: 0.4358 - accuracy: 0.7613\n",
      "Epoch 15/100\n",
      "24/24 [==============================] - 0s 693us/step - loss: 0.4281 - accuracy: 0.7667\n",
      "Epoch 16/100\n",
      "24/24 [==============================] - 0s 693us/step - loss: 0.4209 - accuracy: 0.7693\n",
      "Epoch 17/100\n",
      "24/24 [==============================] - 0s 685us/step - loss: 0.4139 - accuracy: 0.7747\n",
      "Epoch 18/100\n",
      "24/24 [==============================] - 0s 715us/step - loss: 0.4075 - accuracy: 0.7800\n",
      "Epoch 19/100\n",
      "24/24 [==============================] - 0s 702us/step - loss: 0.4015 - accuracy: 0.7893\n",
      "Epoch 20/100\n",
      "24/24 [==============================] - 0s 718us/step - loss: 0.3955 - accuracy: 0.7960\n",
      "Epoch 21/100\n",
      "24/24 [==============================] - 0s 732us/step - loss: 0.3899 - accuracy: 0.8040\n",
      "Epoch 22/100\n",
      "24/24 [==============================] - 0s 707us/step - loss: 0.3845 - accuracy: 0.8067\n",
      "Epoch 23/100\n",
      "24/24 [==============================] - 0s 694us/step - loss: 0.3793 - accuracy: 0.8067\n",
      "Epoch 24/100\n",
      "24/24 [==============================] - 0s 734us/step - loss: 0.3743 - accuracy: 0.8080\n",
      "Epoch 25/100\n",
      "24/24 [==============================] - 0s 696us/step - loss: 0.3697 - accuracy: 0.8093\n",
      "Epoch 26/100\n",
      "24/24 [==============================] - 0s 705us/step - loss: 0.3650 - accuracy: 0.8133\n",
      "Epoch 27/100\n",
      "24/24 [==============================] - 0s 714us/step - loss: 0.3604 - accuracy: 0.8147\n",
      "Epoch 28/100\n",
      "24/24 [==============================] - 0s 731us/step - loss: 0.3562 - accuracy: 0.8187\n",
      "Epoch 29/100\n",
      "24/24 [==============================] - 0s 685us/step - loss: 0.3520 - accuracy: 0.8187\n",
      "Epoch 30/100\n",
      "24/24 [==============================] - 0s 721us/step - loss: 0.3479 - accuracy: 0.8213\n",
      "Epoch 31/100\n",
      "24/24 [==============================] - 0s 728us/step - loss: 0.3440 - accuracy: 0.8213\n",
      "Epoch 32/100\n",
      "24/24 [==============================] - 0s 689us/step - loss: 0.3401 - accuracy: 0.8240\n",
      "Epoch 33/100\n",
      "24/24 [==============================] - 0s 697us/step - loss: 0.3363 - accuracy: 0.8253\n",
      "Epoch 34/100\n",
      "24/24 [==============================] - 0s 719us/step - loss: 0.3328 - accuracy: 0.8293\n",
      "Epoch 35/100\n",
      "24/24 [==============================] - 0s 744us/step - loss: 0.3293 - accuracy: 0.8333\n",
      "Epoch 36/100\n",
      "24/24 [==============================] - 0s 735us/step - loss: 0.3258 - accuracy: 0.8373\n",
      "Epoch 37/100\n",
      "24/24 [==============================] - 0s 715us/step - loss: 0.3226 - accuracy: 0.8387\n",
      "Epoch 38/100\n",
      "24/24 [==============================] - 0s 723us/step - loss: 0.3194 - accuracy: 0.8413\n",
      "Epoch 39/100\n",
      "24/24 [==============================] - 0s 728us/step - loss: 0.3164 - accuracy: 0.8413\n",
      "Epoch 40/100\n",
      "24/24 [==============================] - 0s 744us/step - loss: 0.3135 - accuracy: 0.8440\n",
      "Epoch 41/100\n",
      "24/24 [==============================] - 0s 707us/step - loss: 0.3108 - accuracy: 0.8480\n",
      "Epoch 42/100\n",
      "24/24 [==============================] - 0s 707us/step - loss: 0.3082 - accuracy: 0.8507\n",
      "Epoch 43/100\n",
      "24/24 [==============================] - 0s 722us/step - loss: 0.3057 - accuracy: 0.8507\n",
      "Epoch 44/100\n",
      "24/24 [==============================] - 0s 725us/step - loss: 0.3033 - accuracy: 0.8507\n",
      "Epoch 45/100\n",
      "24/24 [==============================] - 0s 725us/step - loss: 0.3010 - accuracy: 0.8520\n",
      "Epoch 46/100\n",
      "24/24 [==============================] - 0s 721us/step - loss: 0.2990 - accuracy: 0.8547\n",
      "Epoch 47/100\n",
      "24/24 [==============================] - 0s 716us/step - loss: 0.2968 - accuracy: 0.8573\n",
      "Epoch 48/100\n",
      "24/24 [==============================] - 0s 707us/step - loss: 0.2949 - accuracy: 0.8587\n",
      "Epoch 49/100\n",
      "24/24 [==============================] - 0s 724us/step - loss: 0.2931 - accuracy: 0.8587\n",
      "Epoch 50/100\n",
      "24/24 [==============================] - 0s 721us/step - loss: 0.2913 - accuracy: 0.8627\n",
      "Epoch 51/100\n",
      "24/24 [==============================] - 0s 716us/step - loss: 0.2896 - accuracy: 0.8653\n",
      "Epoch 52/100\n",
      "24/24 [==============================] - 0s 711us/step - loss: 0.2880 - accuracy: 0.8653\n",
      "Epoch 53/100\n",
      "24/24 [==============================] - 0s 712us/step - loss: 0.2865 - accuracy: 0.8653\n",
      "Epoch 54/100\n",
      "24/24 [==============================] - 0s 722us/step - loss: 0.2850 - accuracy: 0.8667\n",
      "Epoch 55/100\n",
      "24/24 [==============================] - 0s 714us/step - loss: 0.2836 - accuracy: 0.8667\n",
      "Epoch 56/100\n",
      "24/24 [==============================] - 0s 727us/step - loss: 0.2824 - accuracy: 0.8680\n",
      "Epoch 57/100\n",
      "24/24 [==============================] - 0s 711us/step - loss: 0.2811 - accuracy: 0.8707\n",
      "Epoch 58/100\n",
      "24/24 [==============================] - 0s 709us/step - loss: 0.2800 - accuracy: 0.8720\n",
      "Epoch 59/100\n",
      "24/24 [==============================] - 0s 710us/step - loss: 0.2789 - accuracy: 0.8733\n",
      "Epoch 60/100\n",
      "24/24 [==============================] - 0s 696us/step - loss: 0.2778 - accuracy: 0.8747\n",
      "Epoch 61/100\n",
      "24/24 [==============================] - 0s 729us/step - loss: 0.2768 - accuracy: 0.8760\n",
      "Epoch 62/100\n",
      "24/24 [==============================] - 0s 709us/step - loss: 0.2758 - accuracy: 0.8760\n",
      "Epoch 63/100\n",
      "24/24 [==============================] - 0s 728us/step - loss: 0.2750 - accuracy: 0.8800\n",
      "Epoch 64/100\n",
      "24/24 [==============================] - 0s 719us/step - loss: 0.2741 - accuracy: 0.8813\n",
      "Epoch 65/100\n",
      "24/24 [==============================] - 0s 722us/step - loss: 0.2733 - accuracy: 0.8827\n",
      "Epoch 66/100\n",
      "24/24 [==============================] - 0s 708us/step - loss: 0.2726 - accuracy: 0.8827\n",
      "Epoch 67/100\n",
      "24/24 [==============================] - 0s 703us/step - loss: 0.2718 - accuracy: 0.8853\n",
      "Epoch 68/100\n",
      "24/24 [==============================] - 0s 709us/step - loss: 0.2711 - accuracy: 0.8853\n",
      "Epoch 69/100\n",
      "24/24 [==============================] - 0s 703us/step - loss: 0.2705 - accuracy: 0.8853\n",
      "Epoch 70/100\n",
      "24/24 [==============================] - 0s 762us/step - loss: 0.2698 - accuracy: 0.8853\n",
      "Epoch 71/100\n",
      "24/24 [==============================] - 0s 755us/step - loss: 0.2692 - accuracy: 0.8880\n",
      "Epoch 72/100\n",
      "24/24 [==============================] - 0s 731us/step - loss: 0.2686 - accuracy: 0.8880\n",
      "Epoch 73/100\n",
      "24/24 [==============================] - 0s 723us/step - loss: 0.2680 - accuracy: 0.8880\n",
      "Epoch 74/100\n",
      "24/24 [==============================] - 0s 708us/step - loss: 0.2675 - accuracy: 0.8907\n",
      "Epoch 75/100\n",
      "24/24 [==============================] - 0s 703us/step - loss: 0.2670 - accuracy: 0.8920\n",
      "Epoch 76/100\n",
      "24/24 [==============================] - 0s 706us/step - loss: 0.2665 - accuracy: 0.8920\n",
      "Epoch 77/100\n",
      "24/24 [==============================] - 0s 720us/step - loss: 0.2661 - accuracy: 0.8920\n",
      "Epoch 78/100\n",
      "24/24 [==============================] - 0s 715us/step - loss: 0.2656 - accuracy: 0.8920\n",
      "Epoch 79/100\n",
      "24/24 [==============================] - 0s 717us/step - loss: 0.2653 - accuracy: 0.8920\n",
      "Epoch 80/100\n",
      "24/24 [==============================] - 0s 727us/step - loss: 0.2648 - accuracy: 0.8920\n",
      "Epoch 81/100\n"
     ]
    },
    {
     "name": "stdout",
     "output_type": "stream",
     "text": [
      "24/24 [==============================] - 0s 719us/step - loss: 0.2645 - accuracy: 0.8920\n",
      "Epoch 82/100\n",
      "24/24 [==============================] - 0s 730us/step - loss: 0.2640 - accuracy: 0.8933\n",
      "Epoch 83/100\n",
      "24/24 [==============================] - 0s 697us/step - loss: 0.2638 - accuracy: 0.8933\n",
      "Epoch 84/100\n",
      "24/24 [==============================] - 0s 711us/step - loss: 0.2633 - accuracy: 0.8933\n",
      "Epoch 85/100\n",
      "24/24 [==============================] - 0s 710us/step - loss: 0.2630 - accuracy: 0.8933\n",
      "Epoch 86/100\n",
      "24/24 [==============================] - 0s 718us/step - loss: 0.2626 - accuracy: 0.8920\n",
      "Epoch 87/100\n",
      "24/24 [==============================] - 0s 730us/step - loss: 0.2623 - accuracy: 0.8920\n",
      "Epoch 88/100\n",
      "24/24 [==============================] - 0s 733us/step - loss: 0.2620 - accuracy: 0.8920\n",
      "Epoch 89/100\n",
      "24/24 [==============================] - 0s 693us/step - loss: 0.2618 - accuracy: 0.8907\n",
      "Epoch 90/100\n",
      "24/24 [==============================] - 0s 706us/step - loss: 0.2614 - accuracy: 0.8907\n",
      "Epoch 91/100\n",
      "24/24 [==============================] - 0s 720us/step - loss: 0.2612 - accuracy: 0.8907\n",
      "Epoch 92/100\n",
      "24/24 [==============================] - 0s 742us/step - loss: 0.2609 - accuracy: 0.8907\n",
      "Epoch 93/100\n",
      "24/24 [==============================] - 0s 710us/step - loss: 0.2606 - accuracy: 0.8907\n",
      "Epoch 94/100\n",
      "24/24 [==============================] - 0s 722us/step - loss: 0.2604 - accuracy: 0.8907\n",
      "Epoch 95/100\n",
      "24/24 [==============================] - 0s 695us/step - loss: 0.2601 - accuracy: 0.8920\n",
      "Epoch 96/100\n",
      "24/24 [==============================] - 0s 712us/step - loss: 0.2599 - accuracy: 0.8920\n",
      "Epoch 97/100\n",
      "24/24 [==============================] - 0s 710us/step - loss: 0.2597 - accuracy: 0.8920\n",
      "Epoch 98/100\n",
      "24/24 [==============================] - 0s 719us/step - loss: 0.2594 - accuracy: 0.8920\n",
      "Epoch 99/100\n",
      "24/24 [==============================] - 0s 729us/step - loss: 0.2592 - accuracy: 0.8920\n",
      "Epoch 100/100\n",
      "24/24 [==============================] - 0s 720us/step - loss: 0.2590 - accuracy: 0.8920\n"
     ]
    }
   ],
   "source": [
    "# Training the model with the nonlinear data\n",
    "model_moon = nn_model.fit(X_moon_train_scaled, y_moon_train, epochs=100, shuffle=True)"
   ]
  },
  {
   "cell_type": "code",
   "execution_count": 18,
   "metadata": {},
   "outputs": [
    {
     "data": {
      "text/plain": [
       "<matplotlib.axes._subplots.AxesSubplot at 0x7f805fa29df0>"
      ]
     },
     "execution_count": 18,
     "metadata": {},
     "output_type": "execute_result"
    },
    {
     "data": {
      "image/png": "[encoded data removed]",
      "text/plain": [
       "<Figure size 432x288 with 1 Axes>"
      ]
     },
     "metadata": {
      "needs_background": "light"
     },
     "output_type": "display_data"
    }
   ],
   "source": [
    "# Create a DataFrame containing training history\n",
    "history_df = pd.DataFrame(model_moon.history, index=range(1,len(model_moon.history[\"loss\"])+1))\n",
    "\n",
    "# Plot the loss\n",
    "history_df.plot(y=\"loss\")"
   ]
  },
  {
   "cell_type": "code",
   "execution_count": 19,
   "metadata": {},
   "outputs": [
    {
     "data": {
      "text/plain": [
       "<matplotlib.axes._subplots.AxesSubplot at 0x7f806182bf10>"
      ]
     },
     "execution_count": 19,
     "metadata": {},
     "output_type": "execute_result"
    },
    {
     "data": {
      "image/png": "[encoded data removed]",
      "text/plain": [
       "<Figure size 432x288 with 1 Axes>"
      ]
     },
     "metadata": {
      "needs_background": "light"
     },
     "output_type": "display_data"
    }
   ],
   "source": [
    "# Plot the loss\n",
    "history_df.plot(y=\"accuracy\")"
   ]
  },
  {
   "cell_type": "code",
   "execution_count": 20,
   "metadata": {},
   "outputs": [],
   "source": [
    "# Generate our new Sequential model\n",
    "new_model = tf.keras.models.Sequential()"
   ]
  },
  {
   "cell_type": "code",
   "execution_count": 21,
   "metadata": {},
   "outputs": [],
   "source": [
    "# Add the input and hidden layer\n",
    "number_inputs = 2\n",
    "number_hidden_nodes = 6\n",
    "\n",
    "new_model.add(tf.keras.layers.Dense(units=number_hidden_nodes, activation=\"relu\", input_dim=number_inputs))\n",
    "\n",
    "# Add the output layer that uses a probability activation function\n",
    "new_model.add(tf.keras.layers.Dense(units=1, activation=\"sigmoid\"))"
   ]
  },
  {
   "cell_type": "code",
   "execution_count": 22,
   "metadata": {},
   "outputs": [
    {
     "name": "stdout",
     "output_type": "stream",
     "text": [
      "Epoch 1/100\n",
      "24/24 [==============================] - 0s 539us/step - loss: 0.9482 - accuracy: 0.1787\n",
      "Epoch 2/100\n",
      "24/24 [==============================] - 0s 477us/step - loss: 0.8874 - accuracy: 0.1693\n",
      "Epoch 3/100\n",
      "24/24 [==============================] - 0s 473us/step - loss: 0.8368 - accuracy: 0.1747\n",
      "Epoch 4/100\n",
      "24/24 [==============================] - 0s 465us/step - loss: 0.7925 - accuracy: 0.1867\n",
      "Epoch 5/100\n",
      "24/24 [==============================] - 0s 475us/step - loss: 0.7554 - accuracy: 0.2067\n",
      "Epoch 6/100\n",
      "24/24 [==============================] - 0s 480us/step - loss: 0.7218 - accuracy: 0.2707\n",
      "Epoch 7/100\n",
      "24/24 [==============================] - 0s 528us/step - loss: 0.6919 - accuracy: 0.4587\n",
      "Epoch 8/100\n",
      "24/24 [==============================] - 0s 478us/step - loss: 0.6631 - accuracy: 0.7867\n",
      "Epoch 9/100\n",
      "24/24 [==============================] - 0s 490us/step - loss: 0.6356 - accuracy: 0.9333\n",
      "Epoch 10/100\n",
      "24/24 [==============================] - 0s 472us/step - loss: 0.6082 - accuracy: 0.9467\n",
      "Epoch 11/100\n",
      "24/24 [==============================] - 0s 476us/step - loss: 0.5819 - accuracy: 0.9467\n",
      "Epoch 12/100\n",
      "24/24 [==============================] - 0s 509us/step - loss: 0.5558 - accuracy: 0.9427\n",
      "Epoch 13/100\n",
      "24/24 [==============================] - 0s 484us/step - loss: 0.5303 - accuracy: 0.9347\n",
      "Epoch 14/100\n",
      "24/24 [==============================] - 0s 457us/step - loss: 0.5048 - accuracy: 0.9307\n",
      "Epoch 15/100\n",
      "24/24 [==============================] - 0s 498us/step - loss: 0.4802 - accuracy: 0.9267\n",
      "Epoch 16/100\n",
      "24/24 [==============================] - 0s 499us/step - loss: 0.4560 - accuracy: 0.9253\n",
      "Epoch 17/100\n",
      "24/24 [==============================] - 0s 488us/step - loss: 0.4330 - accuracy: 0.9200\n",
      "Epoch 18/100\n",
      "24/24 [==============================] - 0s 496us/step - loss: 0.4114 - accuracy: 0.9160\n",
      "Epoch 19/100\n",
      "24/24 [==============================] - 0s 490us/step - loss: 0.3916 - accuracy: 0.9120\n",
      "Epoch 20/100\n",
      "24/24 [==============================] - 0s 495us/step - loss: 0.3737 - accuracy: 0.9107\n",
      "Epoch 21/100\n",
      "24/24 [==============================] - 0s 501us/step - loss: 0.3574 - accuracy: 0.9093\n",
      "Epoch 22/100\n",
      "24/24 [==============================] - 0s 500us/step - loss: 0.3429 - accuracy: 0.9067\n",
      "Epoch 23/100\n",
      "24/24 [==============================] - 0s 502us/step - loss: 0.3299 - accuracy: 0.9040\n",
      "Epoch 24/100\n",
      "24/24 [==============================] - 0s 505us/step - loss: 0.3181 - accuracy: 0.9040\n",
      "Epoch 25/100\n",
      "24/24 [==============================] - 0s 492us/step - loss: 0.3078 - accuracy: 0.9027\n",
      "Epoch 26/100\n",
      "24/24 [==============================] - 0s 492us/step - loss: 0.2987 - accuracy: 0.9013\n",
      "Epoch 27/100\n",
      "24/24 [==============================] - 0s 482us/step - loss: 0.2904 - accuracy: 0.9013\n",
      "Epoch 28/100\n",
      "24/24 [==============================] - 0s 497us/step - loss: 0.2831 - accuracy: 0.9013\n",
      "Epoch 29/100\n",
      "24/24 [==============================] - 0s 502us/step - loss: 0.2766 - accuracy: 0.9013\n",
      "Epoch 30/100\n",
      "24/24 [==============================] - 0s 495us/step - loss: 0.2707 - accuracy: 0.9013\n",
      "Epoch 31/100\n",
      "24/24 [==============================] - 0s 502us/step - loss: 0.2654 - accuracy: 0.9027\n",
      "Epoch 32/100\n",
      "24/24 [==============================] - 0s 477us/step - loss: 0.2606 - accuracy: 0.9027\n",
      "Epoch 33/100\n",
      "24/24 [==============================] - 0s 481us/step - loss: 0.2563 - accuracy: 0.9040\n",
      "Epoch 34/100\n",
      "24/24 [==============================] - 0s 492us/step - loss: 0.2524 - accuracy: 0.9040\n",
      "Epoch 35/100\n",
      "24/24 [==============================] - 0s 491us/step - loss: 0.2488 - accuracy: 0.9040\n",
      "Epoch 36/100\n",
      "24/24 [==============================] - 0s 496us/step - loss: 0.2455 - accuracy: 0.9040\n",
      "Epoch 37/100\n",
      "24/24 [==============================] - 0s 497us/step - loss: 0.2426 - accuracy: 0.9040\n",
      "Epoch 38/100\n",
      "24/24 [==============================] - 0s 477us/step - loss: 0.2398 - accuracy: 0.9040\n",
      "Epoch 39/100\n",
      "24/24 [==============================] - 0s 485us/step - loss: 0.2372 - accuracy: 0.9040\n",
      "Epoch 40/100\n",
      "24/24 [==============================] - 0s 495us/step - loss: 0.2347 - accuracy: 0.9067\n",
      "Epoch 41/100\n",
      "24/24 [==============================] - 0s 498us/step - loss: 0.2323 - accuracy: 0.9067\n",
      "Epoch 42/100\n",
      "24/24 [==============================] - 0s 491us/step - loss: 0.2302 - accuracy: 0.9067\n",
      "Epoch 43/100\n",
      "24/24 [==============================] - 0s 501us/step - loss: 0.2282 - accuracy: 0.9067\n",
      "Epoch 44/100\n",
      "24/24 [==============================] - 0s 485us/step - loss: 0.2262 - accuracy: 0.9067\n",
      "Epoch 45/100\n",
      "24/24 [==============================] - 0s 484us/step - loss: 0.2244 - accuracy: 0.9080\n",
      "Epoch 46/100\n",
      "24/24 [==============================] - 0s 495us/step - loss: 0.2227 - accuracy: 0.9080\n",
      "Epoch 47/100\n",
      "24/24 [==============================] - 0s 505us/step - loss: 0.2211 - accuracy: 0.9080\n",
      "Epoch 48/100\n",
      "24/24 [==============================] - 0s 493us/step - loss: 0.2195 - accuracy: 0.9107\n",
      "Epoch 49/100\n",
      "24/24 [==============================] - 0s 500us/step - loss: 0.2181 - accuracy: 0.9107\n",
      "Epoch 50/100\n",
      "24/24 [==============================] - 0s 480us/step - loss: 0.2167 - accuracy: 0.9107\n",
      "Epoch 51/100\n",
      "24/24 [==============================] - 0s 476us/step - loss: 0.2153 - accuracy: 0.9120\n",
      "Epoch 52/100\n",
      "24/24 [==============================] - 0s 490us/step - loss: 0.2139 - accuracy: 0.9120\n",
      "Epoch 53/100\n",
      "24/24 [==============================] - 0s 484us/step - loss: 0.2126 - accuracy: 0.9120\n",
      "Epoch 54/100\n",
      "24/24 [==============================] - 0s 515us/step - loss: 0.2113 - accuracy: 0.9147\n",
      "Epoch 55/100\n",
      "24/24 [==============================] - 0s 496us/step - loss: 0.2101 - accuracy: 0.9160\n",
      "Epoch 56/100\n",
      "24/24 [==============================] - 0s 487us/step - loss: 0.2089 - accuracy: 0.9160\n",
      "Epoch 57/100\n",
      "24/24 [==============================] - 0s 477us/step - loss: 0.2077 - accuracy: 0.9160\n",
      "Epoch 58/100\n",
      "24/24 [==============================] - 0s 504us/step - loss: 0.2065 - accuracy: 0.9160\n",
      "Epoch 59/100\n",
      "24/24 [==============================] - 0s 495us/step - loss: 0.2054 - accuracy: 0.9173\n",
      "Epoch 60/100\n",
      "24/24 [==============================] - 0s 497us/step - loss: 0.2042 - accuracy: 0.9173\n",
      "Epoch 61/100\n",
      "24/24 [==============================] - 0s 492us/step - loss: 0.2031 - accuracy: 0.9173\n",
      "Epoch 62/100\n",
      "24/24 [==============================] - 0s 480us/step - loss: 0.2019 - accuracy: 0.9173\n",
      "Epoch 63/100\n",
      "24/24 [==============================] - 0s 488us/step - loss: 0.2008 - accuracy: 0.9173\n",
      "Epoch 64/100\n",
      "24/24 [==============================] - 0s 496us/step - loss: 0.1997 - accuracy: 0.9187\n",
      "Epoch 65/100\n",
      "24/24 [==============================] - 0s 528us/step - loss: 0.1987 - accuracy: 0.9173\n",
      "Epoch 66/100\n",
      "24/24 [==============================] - 0s 517us/step - loss: 0.1974 - accuracy: 0.9227\n",
      "Epoch 67/100\n",
      "24/24 [==============================] - 0s 496us/step - loss: 0.1963 - accuracy: 0.9227\n",
      "Epoch 68/100\n",
      "24/24 [==============================] - 0s 494us/step - loss: 0.1951 - accuracy: 0.9227\n",
      "Epoch 69/100\n",
      "24/24 [==============================] - 0s 495us/step - loss: 0.1941 - accuracy: 0.9240\n",
      "Epoch 70/100\n",
      "24/24 [==============================] - 0s 508us/step - loss: 0.1929 - accuracy: 0.9240\n",
      "Epoch 71/100\n",
      "24/24 [==============================] - 0s 500us/step - loss: 0.1917 - accuracy: 0.9240\n",
      "Epoch 72/100\n",
      "24/24 [==============================] - 0s 511us/step - loss: 0.1907 - accuracy: 0.9240\n",
      "Epoch 73/100\n",
      "24/24 [==============================] - 0s 470us/step - loss: 0.1895 - accuracy: 0.9240\n",
      "Epoch 74/100\n",
      "24/24 [==============================] - 0s 495us/step - loss: 0.1884 - accuracy: 0.9253\n",
      "Epoch 75/100\n",
      "24/24 [==============================] - 0s 485us/step - loss: 0.1872 - accuracy: 0.9253\n",
      "Epoch 76/100\n",
      "24/24 [==============================] - 0s 496us/step - loss: 0.1861 - accuracy: 0.9253\n",
      "Epoch 77/100\n",
      "24/24 [==============================] - 0s 480us/step - loss: 0.1850 - accuracy: 0.9267\n",
      "Epoch 78/100\n",
      "24/24 [==============================] - 0s 486us/step - loss: 0.1839 - accuracy: 0.9267\n",
      "Epoch 79/100\n",
      "24/24 [==============================] - 0s 522us/step - loss: 0.1828 - accuracy: 0.9280\n",
      "Epoch 80/100\n",
      "24/24 [==============================] - 0s 510us/step - loss: 0.1816 - accuracy: 0.9267\n",
      "Epoch 81/100\n"
     ]
    },
    {
     "name": "stdout",
     "output_type": "stream",
     "text": [
      "24/24 [==============================] - 0s 484us/step - loss: 0.1806 - accuracy: 0.9293\n",
      "Epoch 82/100\n",
      "24/24 [==============================] - 0s 474us/step - loss: 0.1794 - accuracy: 0.9307\n",
      "Epoch 83/100\n",
      "24/24 [==============================] - 0s 487us/step - loss: 0.1782 - accuracy: 0.9307\n",
      "Epoch 84/100\n",
      "24/24 [==============================] - 0s 483us/step - loss: 0.1771 - accuracy: 0.9307\n",
      "Epoch 85/100\n",
      "24/24 [==============================] - 0s 480us/step - loss: 0.1759 - accuracy: 0.9307\n",
      "Epoch 86/100\n",
      "24/24 [==============================] - 0s 474us/step - loss: 0.1747 - accuracy: 0.9320\n",
      "Epoch 87/100\n",
      "24/24 [==============================] - 0s 483us/step - loss: 0.1735 - accuracy: 0.9333\n",
      "Epoch 88/100\n",
      "24/24 [==============================] - 0s 487us/step - loss: 0.1724 - accuracy: 0.9333\n",
      "Epoch 89/100\n",
      "24/24 [==============================] - 0s 475us/step - loss: 0.1712 - accuracy: 0.9333\n",
      "Epoch 90/100\n",
      "24/24 [==============================] - 0s 485us/step - loss: 0.1699 - accuracy: 0.9333\n",
      "Epoch 91/100\n",
      "24/24 [==============================] - 0s 480us/step - loss: 0.1688 - accuracy: 0.9333\n",
      "Epoch 92/100\n",
      "24/24 [==============================] - 0s 477us/step - loss: 0.1676 - accuracy: 0.9333\n",
      "Epoch 93/100\n",
      "24/24 [==============================] - 0s 477us/step - loss: 0.1664 - accuracy: 0.9333\n",
      "Epoch 94/100\n",
      "24/24 [==============================] - 0s 502us/step - loss: 0.1652 - accuracy: 0.9333\n",
      "Epoch 95/100\n",
      "24/24 [==============================] - 0s 476us/step - loss: 0.1640 - accuracy: 0.9333\n",
      "Epoch 96/100\n",
      "24/24 [==============================] - 0s 479us/step - loss: 0.1627 - accuracy: 0.9347\n",
      "Epoch 97/100\n",
      "24/24 [==============================] - 0s 476us/step - loss: 0.1615 - accuracy: 0.9347\n",
      "Epoch 98/100\n",
      "24/24 [==============================] - 0s 497us/step - loss: 0.1602 - accuracy: 0.9347\n",
      "Epoch 99/100\n",
      "24/24 [==============================] - 0s 483us/step - loss: 0.1589 - accuracy: 0.9347\n",
      "Epoch 100/100\n",
      "24/24 [==============================] - 0s 477us/step - loss: 0.1578 - accuracy: 0.9347\n"
     ]
    }
   ],
   "source": [
    "# Compile the Sequential model together and customize metrics\n",
    "new_model.compile(loss=\"binary_crossentropy\", optimizer=\"adam\", metrics=[\"accuracy\"])\n",
    "\n",
    "# Fit the model to the training data\n",
    "new_fit_model = new_model.fit(X_moon_train_scaled, y_moon_train, epochs=100, shuffle=True)\n"
   ]
  },
  {
   "cell_type": "code",
   "execution_count": null,
   "metadata": {},
   "outputs": [],
   "source": []
  }
 ],
 "metadata": {
  "kernelspec": {
   "display_name": "Python 3",
   "language": "python",
   "name": "python3"
  },
  "language_info": {
   "codemirror_mode": {
    "name": "ipython",
    "version": 3
   },
   "file_extension": ".py",
   "mimetype": "text/x-python",
   "name": "python",
   "nbconvert_exporter": "python",
   "pygments_lexer": "ipython3",
   "version": "3.8.3"
  }
 },
 "nbformat": 4,
 "nbformat_minor": 4
}
